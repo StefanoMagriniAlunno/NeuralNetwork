{
  "cells": [
    {
      "cell_type": "markdown",
      "metadata": {},
      "source": [
        "# Initialize repo"
      ]
    },
    {
      "cell_type": "code",
      "execution_count": 5,
      "metadata": {},
      "outputs": [
        {
          "data": {
            "text/plain": [
              "Dataset MNIST\n",
              "    Number of datapoints: 10000\n",
              "    Root location: ./data/db/MNIST\n",
              "    Split: Test"
            ]
          },
          "execution_count": 5,
          "metadata": {},
          "output_type": "execute_result"
        }
      ],
      "source": [
        "# download the MNIST dataset\n",
        "import os\n",
        "from torchvision.datasets import MNIST\n",
        "\n",
        "MNIST_root = './data/db/MNIST'\n",
        "\n",
        "# if not exists the path then create it\n",
        "if not os.path.exists(MNIST_root):\n",
        "    os.makedirs(MNIST_root)\n",
        "\n",
        "# download the MNIST dataset\n",
        "MNIST(MNIST_root, train=True, download=True)\n",
        "MNIST(MNIST_root, train=False, download=True)"
      ]
    },
    {
      "cell_type": "markdown",
      "metadata": {},
      "source": [
        "# Continue Hopfield Layer"
      ]
    },
    {
      "cell_type": "code",
      "execution_count": 6,
      "metadata": {},
      "outputs": [],
      "source": [
        "import torch\n",
        "from torch import nn\n",
        "import source.HopfieldLayer as HL\n",
        "from torchvision import datasets\n",
        "from torchvision import transforms\n",
        "from torch.utils import data\n",
        "\n",
        "# set transformer\n",
        "transform=transforms.Compose(\n",
        "    [\n",
        "        transforms.ToTensor(),\n",
        "        transforms.Grayscale(),\n",
        "        transforms.Pad(2),  # pad to 32x32\n",
        "        transforms.RandomAffine(\n",
        "            degrees=5, translate=(0.1, 0.1), scale=(0.9, 1.1), shear=10\n",
        "        ),\n",
        "        transforms.ColorJitter(contrast=(0.9, 1.5)),\n",
        "    ]\n",
        ")\n",
        "\n",
        "# load the training dataset\n",
        "train_data = datasets.MNIST(root='./data/db/MNIST', train=True, download=False, transform=transform)\n",
        "train_loader = data.DataLoader(train_data, batch_size=1_024, shuffle=True)\n"
      ]
    },
    {
      "cell_type": "code",
      "execution_count": 7,
      "metadata": {},
      "outputs": [],
      "source": [
        "class CapacitorConv2d(torch.nn.Module):\n",
        "    def __init__(\n",
        "        self, in_channels: int, deep: int, encrease: int = 1, decrease: int = 1\n",
        "    ):\n",
        "        super(CapacitorConv2d, self).__init__()\n",
        "\n",
        "        if encrease > 1 and decrease > 1:\n",
        "            raise ValueError(\"encrease and decrease cannot be both greater than 1\")\n",
        "        if encrease < 1 or decrease < 1:\n",
        "            raise ValueError(\"encrease and decrease must be not less than 1\")\n",
        "        if deep < 0:\n",
        "            raise ValueError(\"deep must be greater than 0\")\n",
        "\n",
        "        out_channels = in_channels * 4 * encrease // decrease\n",
        "\n",
        "        self.encode = torch.nn.Conv2d(\n",
        "            in_channels, out_channels, (3, 3), padding=(1, 1)\n",
        "        )\n",
        "        self.list = torch.nn.ModuleList(\n",
        "            [\n",
        "                torch.nn.Sequential(\n",
        "                    torch.nn.PReLU(out_channels),\n",
        "                    torch.nn.Conv2d(\n",
        "                        out_channels, out_channels, (3, 3), padding=(1, 1)\n",
        "                    ),\n",
        "                )\n",
        "                for _ in range(deep)\n",
        "            ]\n",
        "        )\n",
        "        self.bn = torch.nn.BatchNorm2d(out_channels)\n",
        "        self.decode = torch.nn.MaxPool2d((2, 2), (2, 2))\n",
        "        self.silu = torch.nn.SiLU()\n",
        "\n",
        "    def forward(self, x: torch.Tensor) -> torch.Tensor:\n",
        "        x = self.encode(x)\n",
        "        for layer in self.list:\n",
        "            x = layer(x)\n",
        "        x = self.bn(x)\n",
        "        x = self.decode(x)\n",
        "        x = self.silu(x)\n",
        "        return x\n",
        "\n",
        "# Design model\n",
        "class myModel(torch.nn.Module):\n",
        "    def __init__(self):\n",
        "        super(myModel, self).__init__()\n",
        "        self.architecture = nn.ModuleList([\n",
        "            # blocco convoluzionale\n",
        "            CapacitorConv2d(1, 1, encrease=8),  # dimezza la dimensione e moltiplica per 4*8 il numero di canali\n",
        "            CapacitorConv2d(32, 1, decrease=2),  # dimezza la dimensione e moltiplica per 4/2 il numero di canali\n",
        "            CapacitorConv2d(64, 1, decrease=4),  # dimezza la dimensione e moltiplica per 4/4 il numero di canali\n",
        "\n",
        "            # blocco Hopfield\n",
        "            HL.HopfieldLayer(64, 8, 4*4, n_iter=1, temperature=0.5, classifier=True),\n",
        "            nn.Flatten(),\n",
        "\n",
        "            # blocco fully connected\n",
        "            nn.Linear(64*8, 10),\n",
        "        ])\n",
        "\n",
        "    def forward(self, x: torch.Tensor) -> torch.Tensor:\n",
        "        for layer in self.architecture:\n",
        "            x = layer(x)\n",
        "        return x\n",
        "\n",
        "model = myModel()\n",
        "\n",
        "# optimizer for the model\n",
        "optimizer = torch.optim.Adam(model.parameters(), lr=0.01)"
      ]
    },
    {
      "cell_type": "code",
      "execution_count": 9,
      "metadata": {},
      "outputs": [
        {
          "data": {
            "application/vnd.jupyter.widget-view+json": {
              "model_id": "fec33b6c79e1495ab7d3943c98fbc2bd",
              "version_major": 2,
              "version_minor": 0
            },
            "text/plain": [
              "Epochs:   0%|          | 0/1 [00:00<?, ?it/s]"
            ]
          },
          "metadata": {},
          "output_type": "display_data"
        },
        {
          "data": {
            "application/vnd.jupyter.widget-view+json": {
              "model_id": "dea0f8bdb2de49e28a96d166146d0b04",
              "version_major": 2,
              "version_minor": 0
            },
            "text/plain": [
              "Batches:   0%|          | 0/59 [00:00<?, ?it/s]"
            ]
          },
          "metadata": {},
          "output_type": "display_data"
        }
      ],
      "source": [
        "# train the Hopfield layer\n",
        "from tqdm.notebook import tqdm\n",
        "\n",
        "loss_fn = torch.nn.CrossEntropyLoss()\n",
        "n_epochs = 20\n",
        "\n",
        "progress_epoch = tqdm(range(n_epochs), desc=\"Epochs\", leave=False)\n",
        "for e in progress_epoch:\n",
        "    \n",
        "    images: torch.Tensor\n",
        "    labels: torch.Tensor\n",
        "    loss: float = 0.0\n",
        "    \n",
        "    progress_batch = tqdm(train_loader, desc=\"Batches\", total=len(train_loader), leave=False)\n",
        "    for images, labels in progress_batch:\n",
        "        \n",
        "        # flatten the image\n",
        "        images = images.view(-1, 1, 32, 32)\n",
        "        labels = labels.view(-1)\n",
        "\n",
        "        # train the Hopfield layer\n",
        "        optimizer.zero_grad()\n",
        "        output: torch.Tensor = model(images)\n",
        "        output = output.view(-1, 10)\n",
        "        batch_loss: torch.Tensor = loss_fn(output, labels)\n",
        "        batch_loss.backward()\n",
        "        optimizer.step()\n",
        "\n",
        "        loss += batch_loss.item()\n",
        "\n",
        "    loss /= len(train_loader)\n",
        "    progress_epoch.set_postfix(\n",
        "        loss=loss,\n",
        "    )"
      ]
    },
    {
      "cell_type": "code",
      "execution_count": 10,
      "metadata": {},
      "outputs": [
        {
          "name": "stdout",
          "output_type": "stream",
          "text": [
            "Accuracy:  0.9907\n"
          ]
        }
      ],
      "source": [
        "# testing\n",
        "test_data = datasets.MNIST(root='./data/db/MNIST', train=False, download=False, transform=transform)\n",
        "test_loader = data.DataLoader(test_data, batch_size=1_024, shuffle=True)\n",
        "\n",
        "correct = 0\n",
        "total = 0\n",
        "\n",
        "with torch.no_grad():\n",
        "    for images, labels in test_loader:\n",
        "        images = images.view(-1, 1, 32, 32)\n",
        "        labels = labels.view(-1)\n",
        "        outputs = model(images)\n",
        "        _, predicted = torch.max(outputs.data, 1)\n",
        "        total += labels.size(0)\n",
        "        correct += (predicted == labels).sum().item()\n",
        "    \n",
        "print(\"Accuracy: \", correct / total)"
      ]
    }
  ],
  "metadata": {
    "kernelspec": {
      "display_name": ".venv",
      "language": "python",
      "name": "python3"
    },
    "language_info": {
      "codemirror_mode": {
        "name": "ipython",
        "version": 3
      },
      "file_extension": ".py",
      "mimetype": "text/x-python",
      "name": "python",
      "nbconvert_exporter": "python",
      "pygments_lexer": "ipython3",
      "version": "3.10.12"
    }
  },
  "nbformat": 4,
  "nbformat_minor": 2
}
